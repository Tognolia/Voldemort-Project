{
 "cells": [
  {
   "cell_type": "markdown",
   "id": "acute-fourth",
   "metadata": {},
   "source": [
    "# Case Study: Classification"
   ]
  },
  {
   "cell_type": "markdown",
   "id": "seven-estimate",
   "metadata": {},
   "source": [
    "### Import libraries."
   ]
  },
  {
   "cell_type": "code",
   "execution_count": null,
   "id": "suspected-summary",
   "metadata": {},
   "outputs": [],
   "source": []
  },
  {
   "cell_type": "markdown",
   "id": "japanese-steering",
   "metadata": {},
   "source": [
    "### import dataset."
   ]
  },
  {
   "cell_type": "code",
   "execution_count": null,
   "id": "accomplished-native",
   "metadata": {},
   "outputs": [],
   "source": []
  },
  {
   "cell_type": "markdown",
   "id": "tight-geometry",
   "metadata": {},
   "source": [
    "## 1. Data Cleaning."
   ]
  },
  {
   "cell_type": "markdown",
   "id": "identical-worse",
   "metadata": {},
   "source": [
    "### 1.1 Check for NaN, duplicates, zeros."
   ]
  },
  {
   "cell_type": "code",
   "execution_count": null,
   "id": "impaired-differential",
   "metadata": {},
   "outputs": [],
   "source": []
  },
  {
   "cell_type": "markdown",
   "id": "chinese-shepherd",
   "metadata": {},
   "source": [
    "### 1.1.2 Split dataset into numericals and categoricals variables."
   ]
  },
  {
   "cell_type": "markdown",
   "id": "universal-implement",
   "metadata": {},
   "source": [
    "### 2  EDA."
   ]
  },
  {
   "cell_type": "markdown",
   "id": "comparable-leisure",
   "metadata": {},
   "source": [
    "## 3. Pre-processing\n"
   ]
  },
  {
   "cell_type": "markdown",
   "id": "close-malawi",
   "metadata": {},
   "source": [
    "### 3.1 Pre-processing variables: Numerics."
   ]
  },
  {
   "cell_type": "markdown",
   "id": "parental-witness",
   "metadata": {},
   "source": [
    "### 3.2 Pre-processing variables: Categoricals"
   ]
  },
  {
   "cell_type": "markdown",
   "id": "parental-timeline",
   "metadata": {},
   "source": [
    "## 4. Model Preparation\n",
    "Remember: chek that the database is splitted, then devide the db in train X and test sample Y. Check for imbalanced Target data."
   ]
  },
  {
   "cell_type": "markdown",
   "id": "architectural-cleaning",
   "metadata": {},
   "source": [
    "### 4.1 import libraries for logistic regression"
   ]
  },
  {
   "cell_type": "markdown",
   "id": "hydraulic-issue",
   "metadata": {},
   "source": [
    "### 4.2 Split the sample"
   ]
  },
  {
   "cell_type": "markdown",
   "id": "middle-verification",
   "metadata": {},
   "source": [
    "### 4.3 Check results and accuracy"
   ]
  },
  {
   "cell_type": "code",
   "execution_count": null,
   "id": "gentle-console",
   "metadata": {},
   "outputs": [],
   "source": []
  }
 ],
 "metadata": {
  "kernelspec": {
   "display_name": "Python 3",
   "language": "python",
   "name": "python3"
  },
  "language_info": {
   "codemirror_mode": {
    "name": "ipython",
    "version": 3
   },
   "file_extension": ".py",
   "mimetype": "text/x-python",
   "name": "python",
   "nbconvert_exporter": "python",
   "pygments_lexer": "ipython3",
   "version": "3.9.2"
  }
 },
 "nbformat": 4,
 "nbformat_minor": 5
}
